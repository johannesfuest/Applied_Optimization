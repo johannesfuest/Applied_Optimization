{
 "cells": [
  {
   "cell_type": "code",
   "execution_count": 20,
   "metadata": {},
   "outputs": [
    {
     "name": "stdout",
     "output_type": "stream",
     "text": [
      "[[  0.    0.    0.    0.    0.    0.    0.    0.   10.   15.   20.   25.\n",
      "   30.   35.   40.    1.  200. ]\n",
      " [  0.    0.    0.    0.    0.    0.    0.    0.    7.5  12.5  17.5  22.5\n",
      "   27.5  32.5  37.5   1.  202.5]\n",
      " [  0.    0.    0.    0.    0.    0.    0.    0.    5.   10.   15.   20.\n",
      "   25.   30.   35.    1.  205. ]\n",
      " [  0.    0.    0.    0.    0.    0.    0.    0.    2.5   7.5  12.5  17.5\n",
      "   22.5  27.5  32.5   1.  207.5]\n",
      " [  0.    0.    0.    0.    0.    0.    0.    0.    0.    5.   10.   15.\n",
      "   20.   25.   30.    1.  210. ]\n",
      " [  2.5   0.    0.    0.    0.    0.    0.    0.    0.    2.5   7.5  12.5\n",
      "   17.5  22.5  27.5   1.  212.5]\n",
      " [  5.    0.    0.    0.    0.    0.    0.    0.    0.    0.    5.   10.\n",
      "   15.   20.   25.    1.  215. ]\n",
      " [  7.5   2.5   0.    0.    0.    0.    0.    0.    0.    0.    2.5   7.5\n",
      "   12.5  17.5  22.5   1.  217.5]\n",
      " [ 10.    5.    0.    0.    0.    0.    0.    0.    0.    0.    0.    5.\n",
      "   10.   15.   20.    1.  220. ]\n",
      " [ 12.5   7.5   2.5   0.    0.    0.    0.    0.    0.    0.    0.    2.5\n",
      "    7.5  12.5  17.5   1.  222.5]\n",
      " [ 15.   10.    5.    0.    0.    0.    0.    0.    0.    0.    0.    0.\n",
      "    5.   10.   15.    1.  225. ]\n",
      " [ 17.5  12.5   7.5   2.5   0.    0.    0.    0.    0.    0.    0.    0.\n",
      "    2.5   7.5  12.5   1.  227.5]\n",
      " [ 20.   15.   10.    5.    0.    0.    0.    0.    0.    0.    0.    0.\n",
      "    0.    5.   10.    1.  230. ]\n",
      " [ 22.5  17.5  12.5   7.5   2.5   0.    0.    0.    0.    0.    0.    0.\n",
      "    0.    2.5   7.5   1.  232.5]\n",
      " [ 25.   20.   15.   10.    5.    0.    0.    0.    0.    0.    0.    0.\n",
      "    0.    0.    5.    1.  235. ]\n",
      " [ 27.5  22.5  17.5  12.5   7.5   2.5   0.    0.    0.    0.    0.    0.\n",
      "    0.    0.    2.5   1.  237.5]\n",
      " [ 30.   25.   20.   15.   10.    5.    0.    0.    0.    0.    0.    0.\n",
      "    0.    0.    0.    1.  240. ]\n",
      " [ 32.5  27.5  22.5  17.5  12.5   7.5   2.5   0.    0.    0.    0.    0.\n",
      "    0.    0.    0.    1.  242.5]\n",
      " [ 35.   30.   25.   20.   15.   10.    5.    0.    0.    0.    0.    0.\n",
      "    0.    0.    0.    1.  245. ]\n",
      " [ 37.5  32.5  27.5  22.5  17.5  12.5   7.5   2.5   0.    0.    0.    0.\n",
      "    0.    0.    0.    1.  247.5]\n",
      " [ 40.   35.   30.   25.   20.   15.   10.    5.    0.    0.    0.    0.\n",
      "    0.    0.    0.    1.  250. ]\n",
      " [ 42.5  37.5  32.5  27.5  22.5  17.5  12.5   7.5   0.    0.    0.    0.\n",
      "    0.    0.    0.    1.  252.5]\n",
      " [ 45.   40.   35.   30.   25.   20.   15.   10.    0.    0.    0.    0.\n",
      "    0.    0.    0.    1.  255. ]\n",
      " [ 47.5  42.5  37.5  32.5  27.5  22.5  17.5  12.5   0.    0.    0.    0.\n",
      "    0.    0.    0.    1.  257.5]\n",
      " [ 50.   45.   40.   35.   30.   25.   20.   15.    0.    0.    0.    0.\n",
      "    0.    0.    0.    1.  260. ]\n",
      " [ 52.5  47.5  42.5  37.5  32.5  27.5  22.5  17.5   0.    0.    0.    0.\n",
      "    0.    0.    0.    1.  262.5]\n",
      " [ 55.   50.   45.   40.   35.   30.   25.   20.    0.    0.    0.    0.\n",
      "    0.    0.    0.    1.  265. ]\n",
      " [ 57.5  52.5  47.5  42.5  37.5  32.5  27.5  22.5   0.    0.    0.    0.\n",
      "    0.    0.    0.    1.  267.5]\n",
      " [ 60.   55.   50.   45.   40.   35.   30.   25.    0.    0.    0.    0.\n",
      "    0.    0.    0.    1.  270. ]\n",
      " [ 62.5  57.5  52.5  47.5  42.5  37.5  32.5  27.5   0.    0.    0.    0.\n",
      "    0.    0.    0.    1.  272.5]\n",
      " [ 65.   60.   55.   50.   45.   40.   35.   30.    0.    0.    0.    0.\n",
      "    0.    0.    0.    1.  275. ]]\n"
     ]
    }
   ],
   "source": [
    "import pandas as pd\n",
    "import cvxpy as cp\n",
    "import numpy as np\n",
    "\n",
    "euro_calls = [\n",
    "    (210, 15.21),\n",
    "    (215, 11.45),\n",
    "    (220, 7.93),\n",
    "    (225, 5.1),\n",
    "    (230, 3.05),\n",
    "    (235, 1.71),\n",
    "    (240, 0.91),\n",
    "    (245, 0.51),\n",
    "]\n",
    "\n",
    "euro_puts = [\n",
    "    (210, 1.53),\n",
    "    (215, 2.53),\n",
    "    (220, 3.9),\n",
    "    (225, 6.6),\n",
    "    (230, 9.84),\n",
    "    (235, 14.16),\n",
    "    (240, 17.73),\n",
    "]\n",
    "\n",
    "zero_coupon_bond = 0.997\n",
    "\n",
    "apple_stock = 222.72\n",
    "\n",
    "outcomes = np.arange(200, 277.5, 2.5)\n",
    "\n",
    "all_products = euro_calls + euro_puts + [(0, zero_coupon_bond), (0, apple_stock)]\n",
    "\n",
    "x = cp.Variable(len(all_products))\n",
    "p = [prod[1] for prod in all_products]\n",
    "\n",
    "payoff_matrix = np.zeros((len(outcomes), len(all_products)))\n",
    "for i, (strike, price) in enumerate(euro_calls):\n",
    "    payoff_matrix[:, i] = np.maximum(outcomes - strike, 0)\n",
    "for i, (strike, price) in enumerate(euro_puts):\n",
    "    payoff_matrix[:, i + len(euro_calls)] = np.maximum(strike - outcomes, 0)\n",
    "    \n",
    "payoff_matrix[:, -2] = 1\n",
    "payoff_matrix[:, -1] = outcomes\n",
    "    \n",
    "print(payoff_matrix)"
   ]
  },
  {
   "cell_type": "code",
   "execution_count": 21,
   "metadata": {},
   "outputs": [
    {
     "name": "stdout",
     "output_type": "stream",
     "text": [
      "Ideal portfolio: [-1.77741454e+00 -4.18990414e+00 -5.61401441e+00 -6.95655963e-01\n",
      "  2.01388036e+00  7.91076197e+00  1.84246500e+00 -7.83358484e-06\n",
      "  1.78413547e+00  4.18707147e+00  5.61451308e+00  6.95566473e-01\n",
      " -2.01386488e+00 -7.91076878e+00 -1.84246043e+00  9.87342442e+01\n",
      "  5.70136587e-01]\n",
      "Portfolio cost: -0.9999999999999432\n",
      "Portfolio payoffs: [12.09714053 12.23700102 12.3768615  12.51672198 12.65658247 12.81324527\n",
      " 12.96990807 13.1194892  13.26907033 13.41989814 13.57072594 13.72133003\n",
      " 13.87193411 14.02257688 14.17321965 14.32384539 14.47447114 14.6251083\n",
      " 14.77574546 14.92636304 15.07698061 15.22759819 15.37821576 15.52883334\n",
      " 15.67945092 15.83006849 15.98068607 16.13130365 16.28192122 16.4325388\n",
      " 16.58315638]\n",
      "Since all the payoffs are non-negative, this is an arbitrage portfolio\n"
     ]
    }
   ],
   "source": [
    "x = cp.Variable(len(all_products))\n",
    "arb_objective = cp.Minimize(p@x)\n",
    "arb_constraints = [\n",
    "    payoff_matrix @ x >= 0,\n",
    "    p@x == -1,\n",
    "]\n",
    "arb_problem = cp.Problem(arb_objective, arb_constraints)\n",
    "arb_problem.solve()\n",
    "\n",
    "print(f\"Ideal portfolio: {x.value}\")\n",
    "print(f\"Portfolio cost: {p@x.value}\")\n",
    "print(f\"Portfolio payoffs: {payoff_matrix @ x.value}\")\n",
    "print(\"Since all the payoffs are non-negative, this is an arbitrage portfolio\")"
   ]
  },
  {
   "cell_type": "code",
   "execution_count": 22,
   "metadata": {},
   "outputs": [
    {
     "name": "stdout",
     "output_type": "stream",
     "text": [
      "Ideal portfolio: None\n",
      "There is no arbitrage\n"
     ]
    }
   ],
   "source": [
    "x = cp.Variable(len(all_products))\n",
    "transaction_costs = np.zeros(len(all_products))\n",
    "transaction_costs[-2] = 0.001\n",
    "transaction_costs[-1] = 0.5\n",
    "for i in range(len(euro_calls) + len(euro_puts)):\n",
    "    transaction_costs[i] = 0.5\n",
    "z = cp.Variable(len(all_products))\n",
    "arb_objective = cp.Minimize(p@x)\n",
    "arb_constraints = [\n",
    "    payoff_matrix @ x >= 0,\n",
    "    p@x + transaction_costs@z == -1,\n",
    "    z >= x,\n",
    "    z >= -x,\n",
    "]\n",
    "arb_problem = cp.Problem(arb_objective, arb_constraints)\n",
    "arb_problem.solve()\n",
    "\n",
    "print(f\"Ideal portfolio: {x.value}\")\n",
    "\n",
    "if x.value is None:\n",
    "    print(f\"There is no arbitrage\")\n",
    "else:\n",
    "    print(f\"Ideal portfolio: {x.value}\")\n",
    "    print(f\"Portfolio cost: {p@x.value}\")\n",
    "    print(f\"Portfolio payoffs: {payoff_matrix @ x.value}\")\n"
   ]
  },
  {
   "cell_type": "markdown",
   "metadata": {},
   "source": [
    "This example demonstrates that transaction costs can make arbitrage unprofitable.\n",
    "This is one of multiple ways in which transaction costs can stabilize markets:\n",
    "\n",
    "Transaction costs can play a stabilizing role in markets by acting as a deterrent to excessive trading and discouraging speculative behavior. When transaction costs are present, they create a natural \"friction\" in the trading process, making it costly for traders to rapidly buy and sell assets in response to minor price changes. This can have a few key stabilizing effects:\n",
    "\n",
    "Reduction of Excessive Volatility: Transaction costs make short-term, high-frequency trading less profitable. Without these costs, traders might respond to every small price movement, potentially leading to more volatility as prices react more to short-term fluctuations than to fundamental information.\n",
    "\n",
    "Encouragement of Long-Term Investment: By discouraging frequent trading, transaction costs promote a longer-term investment approach. When investors are more focused on holding assets over time rather than rapidly shifting positions, the market tends to reflect more fundamental values and long-term trends, rather than short-term noise, reducing the chances of erratic price movements.\n",
    "\n",
    "Decrease in Herd Behavior: Transaction costs can also help curb herd behavior, where traders collectively follow trends without considering underlying value. In a low-cost environment, it’s easy for traders to jump on trends or \"bandwagons,\" which can amplify market swings. Higher transaction costs can help moderate this behavior by making it less profitable to join in on every trend.\n",
    "\n",
    "\n",
    "    \n"
   ]
  },
  {
   "cell_type": "code",
   "execution_count": 23,
   "metadata": {},
   "outputs": [
    {
     "name": "stdout",
     "output_type": "stream",
     "text": [
      "Replicate the payoff of a put option with strike 245:\n",
      "Optimal portfolio: [-1.20114843e-08 -2.13592590e-08 -9.99999796e-01 -2.63690045e-09\n",
      "  3.83962025e-12  2.32552029e-09  9.51390246e-09  9.99999797e-01\n",
      "  2.55878890e-09  1.71884669e-08  9.99999805e-01  1.78910129e-09\n",
      "  1.30765988e-09 -3.45886573e-09  1.65808794e-07  2.49999978e+01\n",
      " -4.17584229e-09]\n",
      "Portfolio cost: 21.40500021101272\n"
     ]
    }
   ],
   "source": [
    "x = cp.Variable(len(all_products))\n",
    "z = cp.Variable(len(all_products))\n",
    "put_245_payoff = np.maximum(245 - outcomes, 0)\n",
    "\n",
    "rep_objective = cp.Minimize(p@x + transaction_costs@z)\n",
    "rep_constraints = [\n",
    "    payoff_matrix @ x >= put_245_payoff,\n",
    "    z >= x,\n",
    "    z >= -x,\n",
    "]\n",
    "rep_problem = cp.Problem(rep_objective, rep_constraints)\n",
    "rep_problem.solve()\n",
    "\n",
    "print(f\"Replicate the payoff of a put option with strike 245:\")\n",
    "print(f\"Optimal portfolio: {x.value}\")\n",
    "print(f\"Portfolio cost: {np.sum(p@x.value)}\")"
   ]
  }
 ],
 "metadata": {
  "kernelspec": {
   "display_name": "mse_214",
   "language": "python",
   "name": "python3"
  },
  "language_info": {
   "codemirror_mode": {
    "name": "ipython",
    "version": 3
   },
   "file_extension": ".py",
   "mimetype": "text/x-python",
   "name": "python",
   "nbconvert_exporter": "python",
   "pygments_lexer": "ipython3",
   "version": "3.12.5"
  }
 },
 "nbformat": 4,
 "nbformat_minor": 2
}
