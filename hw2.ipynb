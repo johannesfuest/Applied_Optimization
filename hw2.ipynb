{
  "cells": [
    {
      "cell_type": "markdown",
      "metadata": {
        "id": "view-in-github",
        "colab_type": "text"
      },
      "source": [
        "<a href=\"https://colab.research.google.com/github/johannesfuest/Applied_Optimization/blob/main/hw2.ipynb\" target=\"_parent\"><img src=\"https://colab.research.google.com/assets/colab-badge.svg\" alt=\"Open In Colab\"/></a>"
      ]
    },
    {
      "cell_type": "code",
      "execution_count": 1,
      "metadata": {
        "colab": {
          "base_uri": "https://localhost:8080/"
        },
        "id": "l2aGJMBUNpLp",
        "outputId": "5238eb7c-0bec-45a6-8823-38b64e443b64"
      },
      "outputs": [
        {
          "output_type": "stream",
          "name": "stdout",
          "text": [
            "Requirement already satisfied: cvxpy in /usr/local/lib/python3.10/dist-packages (1.5.3)\n",
            "Requirement already satisfied: osqp>=0.6.2 in /usr/local/lib/python3.10/dist-packages (from cvxpy) (0.6.7.post3)\n",
            "Requirement already satisfied: ecos>=2 in /usr/local/lib/python3.10/dist-packages (from cvxpy) (2.0.14)\n",
            "Requirement already satisfied: clarabel>=0.5.0 in /usr/local/lib/python3.10/dist-packages (from cvxpy) (0.9.0)\n",
            "Requirement already satisfied: scs>=3.2.4.post1 in /usr/local/lib/python3.10/dist-packages (from cvxpy) (3.2.7)\n",
            "Requirement already satisfied: numpy>=1.15 in /usr/local/lib/python3.10/dist-packages (from cvxpy) (1.26.4)\n",
            "Requirement already satisfied: scipy>=1.1.0 in /usr/local/lib/python3.10/dist-packages (from cvxpy) (1.13.1)\n",
            "Requirement already satisfied: qdldl in /usr/local/lib/python3.10/dist-packages (from osqp>=0.6.2->cvxpy) (0.1.7.post4)\n",
            "Requirement already satisfied: numpy in /usr/local/lib/python3.10/dist-packages (1.26.4)\n"
          ]
        }
      ],
      "source": [
        "!pip install cvxpy\n",
        "!pip install numpy"
      ]
    },
    {
      "cell_type": "code",
      "execution_count": 2,
      "metadata": {
        "id": "MxwYd36_SWbN"
      },
      "outputs": [],
      "source": [
        "import cvxpy as cp\n",
        "import time\n",
        "import csv\n",
        "import pandas as pd\n",
        "url = 'https://web.stanford.edu/~ashishg/msande214/handouts/hw1_files/austin%20data%20clean.csv'\n",
        "preferred_budget_all_voters = pd.read_csv(url).to_numpy()[:,1:] ##you can get the file in numpy array format with each row denoting a budget\n",
        "\n",
        "\n"
      ]
    },
    {
      "cell_type": "code",
      "source": [
        "preferred_budget_all_voters.shape"
      ],
      "metadata": {
        "colab": {
          "base_uri": "https://localhost:8080/"
        },
        "id": "HAW9_WXHMPVK",
        "outputId": "35497ca4-8c14-4441-864e-ef75208afa6f"
      },
      "execution_count": 3,
      "outputs": [
        {
          "output_type": "execute_result",
          "data": {
            "text/plain": [
              "(37004, 11)"
            ]
          },
          "metadata": {},
          "execution_count": 3
        }
      ]
    },
    {
      "cell_type": "code",
      "source": [
        "preferred_budget_voters = preferred_budget_all_voters[0:500] # These are the actual votes we will use\n",
        "n, m = preferred_budget_voters.shape\n",
        "print(n,m)\n",
        "net_budget = 54750"
      ],
      "metadata": {
        "colab": {
          "base_uri": "https://localhost:8080/"
        },
        "id": "YpnEfFyDEm2O",
        "outputId": "d15d3108-be00-4958-ba90-9dfc2e8e3660"
      },
      "execution_count": 4,
      "outputs": [
        {
          "output_type": "stream",
          "name": "stdout",
          "text": [
            "500 11\n"
          ]
        }
      ]
    },
    {
      "cell_type": "markdown",
      "source": [
        "**Using code from chatgpt**"
      ],
      "metadata": {
        "id": "eFXnvmdf1j3l"
      }
    },
    {
      "cell_type": "code",
      "source": [
        "!pip install matplotlib\n",
        "import matplotlib.pyplot as plt\n",
        "\n",
        "N = [100, 300, 500, 1000, 1500, 2000]\n",
        "times_1 = []\n",
        "for n in N:\n",
        "  preferred_budget_voters = preferred_budget_all_voters[0:n]\n",
        "  # Assume the votes are given as a 2D list (or a NumPy array)\n",
        "  # Each row corresponds to a voter, and each column corresponds to a project\n",
        "  z_ij = preferred_budget_voters # the code from chatgpt assumes that the z_ij are given to us\n",
        "\n",
        "  # Number of voters and projects\n",
        "  num_voters, num_projects = z_ij.shape\n",
        "\n",
        "  # Total available budget (B)\n",
        "  B = 54750  # total available budget, replacing placeholder from chatgpt with actual value\n",
        "\n",
        "  # Start timing the setup phase\n",
        "  setup_start_time = time.time()\n",
        "\n",
        "  # Define the decision variables\n",
        "  x_j = cp.Variable(num_projects, nonneg=True)  # The final allocated funds for each project\n",
        "  w_ij = cp.Variable((num_voters, num_projects), nonneg=True)  # The overlap between allocated and voter submitted budgets\n",
        "\n",
        "  # Objective: Maximize the total overlap in funds\n",
        "  objective = cp.Maximize(cp.sum(w_ij))\n",
        "\n",
        "  # Constraints\n",
        "  constraints = []\n",
        "\n",
        "  # Budget constraint: total allocated funds cannot exceed the available budget\n",
        "  constraints.append(cp.sum(x_j) <= B)\n",
        "\n",
        "  # Overlap constraints: w_ij must be less than or equal to both the aggregated budget and the submitted budgets\n",
        "  for i in range(num_voters):\n",
        "      for j in range(num_projects):\n",
        "          constraints.append(w_ij[i, j] <= x_j[j])  # w_ij must be <= allocated funds x_j\n",
        "          constraints.append(w_ij[i, j] <= z_ij[i, j])  # w_ij must be <= submitted budget z_ij\n",
        "\n",
        "  # Define the problem\n",
        "  problem = cp.Problem(objective, constraints)\n",
        "\n",
        "  # End timing the setup phase\n",
        "  setup_end_time = time.time()\n",
        "\n",
        "  # Start timing the solve phase\n",
        "  solve_start_time = time.time()\n",
        "\n",
        "  # Solve the problem\n",
        "  problem.solve()\n",
        "\n",
        "  # End timing the solve phase\n",
        "  solve_end_time = time.time()\n",
        "  times_1.append(solve_end_time - solve_start_time)\n",
        "\n",
        "plt.plot(N, times_1)\n",
        "plt.show()\n",
        "\n",
        "print(\"Time does not appear to be scaling linearly\")"
      ],
      "metadata": {
        "id": "hw1yeYOE1nIr",
        "colab": {
          "base_uri": "https://localhost:8080/",
          "height": 645
        },
        "outputId": "f295a685-9939-4101-8010-ef8e77279922"
      },
      "execution_count": 11,
      "outputs": [
        {
          "output_type": "stream",
          "name": "stdout",
          "text": [
            "Requirement already satisfied: matplotlib in /usr/local/lib/python3.10/dist-packages (3.7.1)\n",
            "Requirement already satisfied: contourpy>=1.0.1 in /usr/local/lib/python3.10/dist-packages (from matplotlib) (1.3.0)\n",
            "Requirement already satisfied: cycler>=0.10 in /usr/local/lib/python3.10/dist-packages (from matplotlib) (0.12.1)\n",
            "Requirement already satisfied: fonttools>=4.22.0 in /usr/local/lib/python3.10/dist-packages (from matplotlib) (4.54.1)\n",
            "Requirement already satisfied: kiwisolver>=1.0.1 in /usr/local/lib/python3.10/dist-packages (from matplotlib) (1.4.7)\n",
            "Requirement already satisfied: numpy>=1.20 in /usr/local/lib/python3.10/dist-packages (from matplotlib) (1.26.4)\n",
            "Requirement already satisfied: packaging>=20.0 in /usr/local/lib/python3.10/dist-packages (from matplotlib) (24.1)\n",
            "Requirement already satisfied: pillow>=6.2.0 in /usr/local/lib/python3.10/dist-packages (from matplotlib) (10.4.0)\n",
            "Requirement already satisfied: pyparsing>=2.3.1 in /usr/local/lib/python3.10/dist-packages (from matplotlib) (3.2.0)\n",
            "Requirement already satisfied: python-dateutil>=2.7 in /usr/local/lib/python3.10/dist-packages (from matplotlib) (2.8.2)\n",
            "Requirement already satisfied: six>=1.5 in /usr/local/lib/python3.10/dist-packages (from python-dateutil>=2.7->matplotlib) (1.16.0)\n"
          ]
        },
        {
          "output_type": "display_data",
          "data": {
            "text/plain": [
              "<Figure size 640x480 with 1 Axes>"
            ],
            "image/png": "[encoded data removed]"
          },
          "metadata": {}
        },
        {
          "output_type": "stream",
          "name": "stdout",
          "text": [
            "Time does not appear to be scaling linearly\n"
          ]
        }
      ]
    },
    {
      "cell_type": "markdown",
      "source": [
        "**Solve using hand-optimized cvxpy**"
      ],
      "metadata": {
        "id": "U969I9654NKF"
      }
    },
    {
      "cell_type": "code",
      "source": [
        "times_2 = []\n",
        "for n in N:\n",
        "  preferred_budget_voters = preferred_budget_all_voters[0:n]\n",
        "  # Assume the votes are given as a 2D list (or a NumPy array)\n",
        "  # Each row corresponds to a voter, and each column corresponds to a project\n",
        "  z_ij = preferred_budget_voters # the code from chatgpt assumes that the z_ij are given to us\n",
        "\n",
        "  # Number of voters and projects\n",
        "  num_voters, num_projects = z_ij.shape\n",
        "\n",
        "  # Total available budget (B)\n",
        "  B = 54750  # total available budget, replacing placeholder from chatgpt with actual value\n",
        "\n",
        "  # Start timing the setup phase\n",
        "  setup_start_time = time.time()\n",
        "\n",
        "  # Define the decision variables\n",
        "  # CHANGE: WE DEFINED x_j to a 1 x num_projects vector explicitly, to make it easier to then write matrix constraints\n",
        "  x_j = cp.Variable((1,num_projects), nonneg=True)  # The final allocated funds for each project\n",
        "\n",
        "  w_ij = cp.Variable((num_voters, num_projects), nonneg=True)  # The overlap between allocated and voter submitted budgets\n",
        "\n",
        "  # Objective: Maximize the total overlap in funds\n",
        "  objective = cp.Maximize(cp.sum(w_ij))\n",
        "\n",
        "  # Constraints\n",
        "  constraints = []\n",
        "\n",
        "  # Budget constraint: total allocated funds cannot exceed the available budget\n",
        "  constraints.append(cp.sum(x_j) <= B)\n",
        "\n",
        "  # Overlap constraints: w_ij must be less than or equal to both the aggregated budget and the submitted budgets\n",
        "  # CHANGE: WE USED MATRIX CONSTRAINTS, which allows cvxpy to do additional optimizations (courtesy Philipp Schiele)\n",
        "  constraints.append(w_ij <= x_j)  # w_ij must be <= allocated funds x_j\n",
        "  constraints.append(w_ij <= z_ij)  # w_ij must be <= submitted budget z_ij\n",
        "\n",
        "  # Define the problem\n",
        "  problem = cp.Problem(objective, constraints)\n",
        "\n",
        "  # End timing the setup phase\n",
        "  setup_end_time = time.time()\n",
        "\n",
        "  # Start timing the solve phase\n",
        "  solve_start_time = time.time()\n",
        "\n",
        "  # Solve the problem\n",
        "  problem.solve()\n",
        "\n",
        "  # End timing the solve phase\n",
        "  solve_end_time = time.time()\n",
        "  times_2.append(solve_end_time - solve_start_time)\n",
        "plt.plot(N, times_2)\n",
        "plt.show()\n",
        "\n",
        "print(\"Time does not appear to be scaling linearly\")"
      ],
      "metadata": {
        "colab": {
          "base_uri": "https://localhost:8080/",
          "height": 448
        },
        "id": "K3G6oNmwAYW2",
        "outputId": "9c1af156-9a31-40d7-d256-e305a78ebd9f"
      },
      "execution_count": 12,
      "outputs": [
        {
          "output_type": "display_data",
          "data": {
            "text/plain": [
              "<Figure size 640x480 with 1 Axes>"
            ],
            "image/png": "[encoded data removed]"
          },
          "metadata": {}
        },
        {
          "output_type": "stream",
          "name": "stdout",
          "text": [
            "Time does not appear to be scaling linearly\n"
          ]
        }
      ]
    },
    {
      "cell_type": "code",
      "source": [
        "import numpy as np\n",
        "# Assume the votes are given as a 2D list (or a NumPy array)\n",
        "# Each row corresponds to a voter, and each column corresponds to a project\n",
        "preferred_budget_voters = preferred_budget_all_voters[0:500]\n",
        "z_ij = preferred_budget_voters # the code from chatgpt assumes that the z_ij are given to us\n",
        "\n",
        "# Number of voters and projects\n",
        "num_voters, num_projects = z_ij.shape\n",
        "\n",
        "# Total available budget (B)\n",
        "B = 54750  # total available budget, replacing placeholder from chatgpt with actual value\n",
        "\n",
        "# Start timing the setup phase\n",
        "setup_start_time = time.time()\n",
        "\n",
        "# Define the decision variables\n",
        "# CHANGE: WE DEFINED x_j to a 1 x num_projects vector explicitly, to make it easier to then write matrix constraints\n",
        "x_j = cp.Variable((1,num_projects), nonneg=True)  # The final allocated funds for each project\n",
        "\n",
        "\n",
        "w_ij = cp.Variable((num_voters, num_projects), nonneg=True)  # The overlap between allocated and voter submitted budgets\n",
        "\n",
        "# Objective: Maximize the total overlap in funds\n",
        "objective = cp.Maximize(cp.sum(w_ij))\n",
        "\n",
        "# Constraints\n",
        "constraints = []\n",
        "\n",
        "# Budget constraint: total allocated funds cannot exceed the available budget\n",
        "constraints.append(cp.sum(x_j) <= B)\n",
        "\n",
        "# Overlap constraints: w_ij must be less than or equal to both the aggregated budget and the submitted budgets\n",
        "# CHANGE: WE USED MATRIX CONSTRAINTS, which allows cvxpy to do additional optimizations (courtesy Philipp Schiele)\n",
        "constraints.append(w_ij <= x_j)  # w_ij must be <= allocated funds x_j\n",
        "constraints.append(w_ij <= z_ij)  # w_ij must be <= submitted budget z_ij\n",
        "\n",
        "constraints.append(x_j[0, 0] >= 1050) # new constraint\n",
        "\n",
        "# Define the problem\n",
        "problem = cp.Problem(objective, constraints)\n",
        "\n",
        "# End timing the setup phase\n",
        "setup_end_time = time.time()\n",
        "\n",
        "# Start timing the solve phase\n",
        "solve_start_time = time.time()\n",
        "\n",
        "# Solve the problem\n",
        "problem.solve()\n",
        "\n",
        "# Calculate the optimal aggregate budget\n",
        "sum_x = np.sum(x_j.value)\n",
        "\n",
        "print(\"Optimal allocated funds for each project:\", x_j.value)\n",
        "print(\"Optimal total overlap in funds:\", problem.value)\n",
        "print(\"Aggregate budget:\", sum_x)"
      ],
      "metadata": {
        "id": "G4PxwDL-B8kY",
        "outputId": "4b2f934e-00e4-42d6-8cd9-287f578737e1",
        "colab": {
          "base_uri": "https://localhost:8080/"
        }
      },
      "execution_count": 14,
      "outputs": [
        {
          "output_type": "stream",
          "name": "stdout",
          "text": [
            "Optimal allocated funds for each project: [[ 1049.99999812  1749.99999535  4750.00000091  9999.9999994\n",
            "   4250.00000437   749.99999881  2749.99999783  2450.00002369\n",
            "   4999.99999961 21499.99999385   499.99999008]]\n",
            "Optimal total overlap in funds: 25544650.001460984\n",
            "Aggregate budget: 54750.00000203089\n"
          ]
        }
      ]
    }
  ],
  "metadata": {
    "colab": {
      "provenance": [],
      "include_colab_link": true
    },
    "kernelspec": {
      "display_name": "Python 3",
      "name": "python3"
    },
    "language_info": {
      "name": "python"
    }
  },
  "nbformat": 4,
  "nbformat_minor": 0
}