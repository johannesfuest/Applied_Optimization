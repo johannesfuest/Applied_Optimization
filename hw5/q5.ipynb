{
 "cells": [
  {
   "cell_type": "code",
   "execution_count": 1,
   "metadata": {},
   "outputs": [
    {
     "name": "stdout",
     "output_type": "stream",
     "text": [
      "Maximum flow from A to B: 4.9999999973902955\n",
      "Flow on edge ('A', 'C'): 1.1490561677972377\n",
      "Flow on edge ('A', 'D'): 1.8509438291020315\n",
      "Flow on edge ('A', 'S'): 2.0000000004910365\n",
      "Flow on edge ('C', 'D'): 0.6462767669729635\n",
      "Flow on edge ('C', 'T'): 0.5027794008242743\n",
      "Flow on edge ('D', 'T'): 1.497220599112802\n",
      "Flow on edge ('D', 'F'): 0.9999999975152404\n",
      "Flow on edge ('S', 'D'): 5.530498781969042e-10\n",
      "Flow on edge ('S', 'F'): 2.6068823055943266e-09\n",
      "Flow on edge ('S', 'G'): 1.9999999973311025\n",
      "Flow on edge ('F', 'B'): 0.9999999996195776\n",
      "Flow on edge ('F', 'T'): 5.025430025222626e-10\n",
      "Flow on edge ('G', 'T'): 0.0\n",
      "Flow on edge ('T', 'B'): 2.000000000134609\n",
      "Flow on edge ('G', 'B'): 1.999999997636108\n"
     ]
    }
   ],
   "source": [
    "import cvxpy as cp\n",
    "import numpy as np\n",
    "\n",
    "# Define nodes and edges\n",
    "nodes = ['A', 'B', 'C', 'D', 'F', 'G', 'S', 'T']\n",
    "edges = {\n",
    "    ('A', 'C'): 5,\n",
    "    ('A', 'D'): 4,\n",
    "    ('A', 'S'): 2,\n",
    "    ('C', 'D'): 1,\n",
    "    ('C', 'T'): 1,\n",
    "    ('D', 'T'): 3,\n",
    "    ('D', 'F'): 1,\n",
    "    ('S', 'D'): 1,\n",
    "    ('S', 'F'): 2,\n",
    "    ('S', 'G'): 2,\n",
    "    ('F', 'B'): 1,\n",
    "    ('F', 'T'): 4,\n",
    "    ('G', 'T'): 5,\n",
    "    ('T', 'B'): 2,\n",
    "    ('G', 'B'): 2,\n",
    "}\n",
    "\n",
    "# Define variables\n",
    "flow = {edge: cp.Variable(nonneg=True) for edge in edges}\n",
    "\n",
    "# Objective function: maximize flow into node B\n",
    "objective = cp.Maximize(sum(flow[(i, 'B')] for i in nodes if (i, 'B') in edges))\n",
    "\n",
    "# Constraints\n",
    "constraints = []\n",
    "\n",
    "# Capacity constraints\n",
    "for (i, j), capacity in edges.items():\n",
    "    constraints.append(flow[(i, j)] <= capacity)\n",
    "\n",
    "# Flow conservation constraints (excluding source A and sink B)\n",
    "for node in nodes:\n",
    "    if node not in ['A', 'B']:\n",
    "        inflow = sum(flow[(i, node)] for i in nodes if (i, node) in edges)\n",
    "        outflow = sum(flow[(node, j)] for j in nodes if (node, j) in edges)\n",
    "        constraints.append(inflow == outflow)\n",
    "\n",
    "# Source node constraints (flow out of A)\n",
    "outflow_A = sum(flow[('A', j)] for j in nodes if ('A', j) in edges)\n",
    "constraints.append(outflow_A >= 0)\n",
    "\n",
    "# Define and solve the problem\n",
    "prob = cp.Problem(objective, constraints)\n",
    "result = prob.solve()\n",
    "\n",
    "# Print the results\n",
    "print(\"Maximum flow from A to B:\", result)\n",
    "for edge in edges:\n",
    "    print(f\"Flow on edge {edge}: {flow[edge].value}\")\n",
    "\n",
    "\n"
   ]
  },
  {
   "cell_type": "code",
   "execution_count": null,
   "metadata": {},
   "outputs": [],
   "source": []
  }
 ],
 "metadata": {
  "kernelspec": {
   "display_name": "mse_214",
   "language": "python",
   "name": "python3"
  },
  "language_info": {
   "codemirror_mode": {
    "name": "ipython",
    "version": 3
   },
   "file_extension": ".py",
   "mimetype": "text/x-python",
   "name": "python",
   "nbconvert_exporter": "python",
   "pygments_lexer": "ipython3",
   "version": "3.12.5"
  }
 },
 "nbformat": 4,
 "nbformat_minor": 2
}
