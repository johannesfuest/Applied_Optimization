{
 "cells": [
  {
   "cell_type": "code",
   "execution_count": 1,
   "metadata": {},
   "outputs": [
    {
     "name": "stdout",
     "output_type": "stream",
     "text": [
      "Arbitrage opportunity exists!\n",
      "Use edge ('USD', 'EUR') with exchange rate 0.9\n",
      "Use edge ('USD', 'JPY') with exchange rate 140.0\n",
      "Use edge ('EUR', 'GBP') with exchange rate 0.86\n",
      "Use edge ('EUR', 'JPY') with exchange rate 155.0\n",
      "Use edge ('GBP', 'USD') with exchange rate 1.3\n",
      "Use edge ('GBP', 'CAD') with exchange rate 1.75\n",
      "Use edge ('JPY', 'GBP') with exchange rate 0.0056\n",
      "Use edge ('JPY', 'CAD') with exchange rate 0.01\n",
      "Use edge ('CAD', 'USD') with exchange rate 0.741\n",
      "Use edge ('CAD', 'EUR') with exchange rate 0.667\n"
     ]
    }
   ],
   "source": [
    "import cvxpy as cp\n",
    "import numpy as np\n",
    "\n",
    "# Define currencies and exchange rates\n",
    "currencies = ['USD', 'EUR', 'GBP', 'JPY', 'CAD']\n",
    "exchange_rates = {\n",
    "    ('USD', 'EUR'): 0.900,\n",
    "    ('USD', 'GBP'): 0.770,\n",
    "    ('USD', 'JPY'): 140.000,\n",
    "    ('USD', 'CAD'): 1.350,\n",
    "    ('EUR', 'USD'): 1.111,\n",
    "    ('EUR', 'GBP'): 0.860,\n",
    "    ('EUR', 'JPY'): 155.000,\n",
    "    ('EUR', 'CAD'): 1.500,\n",
    "    ('GBP', 'USD'): 1.300,\n",
    "    ('GBP', 'EUR'): 1.163,\n",
    "    ('GBP', 'JPY'): 180.000,\n",
    "    ('GBP', 'CAD'): 1.750,\n",
    "    ('JPY', 'USD'): 0.007,\n",
    "    ('JPY', 'EUR'): 0.0064,\n",
    "    ('JPY', 'GBP'): 0.0056,\n",
    "    ('JPY', 'CAD'): 0.010,\n",
    "    ('CAD', 'USD'): 0.741,\n",
    "    ('CAD', 'EUR'): 0.667,\n",
    "    ('CAD', 'GBP'): 0.571,\n",
    "    ('CAD', 'JPY'): 100.000\n",
    "}\n",
    "\n",
    "# Convert exchange rates to costs (negative logarithm)\n",
    "costs = {edge: -np.log(rate) for edge, rate in exchange_rates.items()}\n",
    "\n",
    "# Define variables\n",
    "flow = {edge: cp.Variable(boolean=True) for edge in exchange_rates}\n",
    "\n",
    "# Objective function: minimize the total cost\n",
    "objective = cp.Minimize(sum(costs[edge] * flow[edge] for edge in exchange_rates))\n",
    "\n",
    "# Constraints\n",
    "constraints = []\n",
    "\n",
    "# Flow conservation constraints (ensure flow forms a cycle)\n",
    "for currency in currencies:\n",
    "    inflow = sum(flow[(i, currency)] for i in currencies if (i, currency) in exchange_rates)\n",
    "    outflow = sum(flow[(currency, j)] for j in currencies if (currency, j) in exchange_rates)\n",
    "    constraints.append(inflow == outflow)\n",
    "\n",
    "# Ensure there is at least one cycle (total flow >= 1)\n",
    "constraints.append(sum(flow[edge] for edge in exchange_rates) >= 1)\n",
    "\n",
    "# Define and solve the problem\n",
    "prob = cp.Problem(objective, constraints)\n",
    "result = prob.solve()\n",
    "\n",
    "# Print the results\n",
    "if result < 0:\n",
    "    print(\"Arbitrage opportunity exists!\")\n",
    "    for edge in exchange_rates:\n",
    "        if flow[edge].value > 0.5:\n",
    "            print(f\"Use edge {edge} with exchange rate {exchange_rates[edge]}\")\n",
    "else:\n",
    "    print(\"No arbitrage opportunity found.\")"
   ]
  },
  {
   "cell_type": "code",
   "execution_count": null,
   "metadata": {},
   "outputs": [],
   "source": []
  }
 ],
 "metadata": {
  "kernelspec": {
   "display_name": "mse_214",
   "language": "python",
   "name": "python3"
  },
  "language_info": {
   "codemirror_mode": {
    "name": "ipython",
    "version": 3
   },
   "file_extension": ".py",
   "mimetype": "text/x-python",
   "name": "python",
   "nbconvert_exporter": "python",
   "pygments_lexer": "ipython3",
   "version": "3.12.5"
  }
 },
 "nbformat": 4,
 "nbformat_minor": 2
}
