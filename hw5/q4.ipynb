{
 "cells": [
  {
   "cell_type": "code",
   "execution_count": 3,
   "metadata": {},
   "outputs": [
    {
     "name": "stdout",
     "output_type": "stream",
     "text": [
      "Shortest path cost from s to d: 6.00000002892718\n",
      "Edges in the shortest path:\n",
      "('s', 'r') with flow 0.9999999839979391\n",
      "('r', 'c') with flow 0.9999999864918978\n",
      "('c', 'd') with flow 1.000000002493966\n"
     ]
    }
   ],
   "source": [
    "import cvxpy as cp\n",
    "\n",
    "vertices = [\"s\", \"r\", \"c\", \"b\", \"d\"]\n",
    "edges = {\n",
    "    (\"s\", \"r\"): 3,\n",
    "    (\"s\", \"c\"): 5,\n",
    "    (\"r\", \"c\"): 1,\n",
    "    (\"r\", \"b\"): 7,\n",
    "    (\"r\", \"d\"): 4,\n",
    "    (\"c\", \"d\"): 2,\n",
    "    (\"b\", \"d\"): 3,\n",
    "}\n",
    "\n",
    "source = \"s\"\n",
    "destination = \"d\"\n",
    "\n",
    "# Decision variables: flow on each edge (non-negative)\n",
    "edge_vars = {edge: cp.Variable(name=f\"x_{edge}\", nonneg=True) for edge in edges}\n",
    "\n",
    "# Objective function: minimize total cost of the flow\n",
    "total_cost = cp.sum([edges[edge] * edge_vars[edge] for edge in edges])\n",
    "\n",
    "# Supply and demand at each node\n",
    "b_v = {v: 0 for v in vertices}\n",
    "b_v[source] = 1   # Supply at source node\n",
    "b_v[destination] = -1  # Demand at destination node\n",
    "\n",
    "# Constraints: flow conservation at each node\n",
    "constraints = []\n",
    "for v in vertices:\n",
    "    inflow_edges = [e for e in edges if e[1] == v]\n",
    "    outflow_edges = [e for e in edges if e[0] == v]\n",
    "    inflow = cp.sum([edge_vars[e] for e in inflow_edges]) if inflow_edges else 0\n",
    "    outflow = cp.sum([edge_vars[e] for e in outflow_edges]) if outflow_edges else 0\n",
    "    constraints.append(outflow - inflow == b_v[v])\n",
    "\n",
    "# Formulate and solve the LP problem\n",
    "prob = cp.Problem(cp.Minimize(total_cost), constraints)\n",
    "prob.solve()\n",
    "\n",
    "# Output the results\n",
    "print(f\"Shortest path cost from {source} to {destination}: {prob.value}\")\n",
    "print(\"Edges in the shortest path:\")\n",
    "for edge in edges:\n",
    "    flow = edge_vars[edge].value\n",
    "    if flow > 1e-5:  # Consider flows greater than a small threshold\n",
    "        print(f\"{edge} with flow {flow}\")\n",
    "\n"
   ]
  },
  {
   "cell_type": "code",
   "execution_count": null,
   "metadata": {},
   "outputs": [],
   "source": []
  }
 ],
 "metadata": {
  "kernelspec": {
   "display_name": "mse_214",
   "language": "python",
   "name": "python3"
  },
  "language_info": {
   "codemirror_mode": {
    "name": "ipython",
    "version": 3
   },
   "file_extension": ".py",
   "mimetype": "text/x-python",
   "name": "python",
   "nbconvert_exporter": "python",
   "pygments_lexer": "ipython3",
   "version": "3.12.5"
  }
 },
 "nbformat": 4,
 "nbformat_minor": 2
}
