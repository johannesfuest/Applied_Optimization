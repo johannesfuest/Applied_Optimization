{
  "nbformat": 4,
  "nbformat_minor": 0,
  "metadata": {
    "colab": {
      "provenance": []
    },
    "kernelspec": {
      "name": "python3",
      "display_name": "Python 3"
    }
  },
  "cells": [
    {
      "cell_type": "markdown",
      "metadata": {
        "id": "ekZZafGPliBv"
      },
      "source": [
        "We will now see an example of how concepts in this class are used in practice. We will use SVMs, defined earlier, as an example. This notebook is made at https://colab.research.google.com/ using Python. The HW is in the last box.\n"
      ]
    },
    {
      "cell_type": "markdown",
      "metadata": {
        "id": "eAzkoPQ_lojG"
      },
      "source": [
        "\n",
        "The link to this project: https://colab.research.google.com/drive/1K_QFPDvJYhaopKfX-JFT4DuDiLUb8nQm?usp=sharing"
      ]
    },
    {
      "cell_type": "markdown",
      "metadata": {
        "id": "peRMCSlRllvV"
      },
      "source": [
        "*Further* information on this example: https://pythonprogramming.net/linear-svc-example-scikit-learn-svm-python/"
      ]
    },
    {
      "cell_type": "code",
      "metadata": {
        "id": "U-nb_o5XjqkO",
        "colab": {
          "base_uri": "https://localhost:8080/"
        },
        "outputId": "d7bc2383-55b9-406f-a8be-3d1d60f7968c"
      },
      "source": [
        "# Getting the right libraries -- ignore this part\n",
        "!pip install cvxpy\n",
        "import numpy as np\n",
        "import os\n",
        "import matplotlib.pyplot as plt\n",
        "from matplotlib import style\n",
        "style.use(\"ggplot\")\n",
        "from sklearn import svm\n",
        "import cvxpy as cp\n",
        "from google.colab import drive\n",
        "drive.mount('/content/gdrive/', force_remount=True)\n",
        "os.chdir('/content/gdrive/MyDrive')\n",
        "import pandas as pd"
      ],
      "execution_count": 14,
      "outputs": [
        {
          "output_type": "stream",
          "name": "stdout",
          "text": [
            "Requirement already satisfied: cvxpy in /usr/local/lib/python3.10/dist-packages (1.5.3)\n",
            "Requirement already satisfied: osqp>=0.6.2 in /usr/local/lib/python3.10/dist-packages (from cvxpy) (0.6.7.post3)\n",
            "Requirement already satisfied: ecos>=2 in /usr/local/lib/python3.10/dist-packages (from cvxpy) (2.0.14)\n",
            "Requirement already satisfied: clarabel>=0.5.0 in /usr/local/lib/python3.10/dist-packages (from cvxpy) (0.9.0)\n",
            "Requirement already satisfied: scs>=3.2.4.post1 in /usr/local/lib/python3.10/dist-packages (from cvxpy) (3.2.7)\n",
            "Requirement already satisfied: numpy>=1.15 in /usr/local/lib/python3.10/dist-packages (from cvxpy) (1.26.4)\n",
            "Requirement already satisfied: scipy>=1.1.0 in /usr/local/lib/python3.10/dist-packages (from cvxpy) (1.13.1)\n",
            "Requirement already satisfied: qdldl in /usr/local/lib/python3.10/dist-packages (from osqp>=0.6.2->cvxpy) (0.1.7.post4)\n",
            "Mounted at /content/gdrive/\n"
          ]
        }
      ]
    },
    {
      "cell_type": "code",
      "source": [
        "# put your file at the top level of your google drive\n",
        "# Read the provided file heart.csv to get an idea of what the features are\n",
        "# The file is at https://web.stanford.edu/~ashishg/msande214/handouts/heart.csv\n",
        "# The class variable (1 for positive, 0 for negative) you are trying to predict is in the last column marked 'target'\n",
        "# The code below already strips out the header\n",
        "my_data = pd.read_csv('heart.csv').to_numpy()[:,:] ##you can get the file in numpy array format with each row denoting a budget\n"
      ],
      "metadata": {
        "id": "lBk5-ckcaYot"
      },
      "execution_count": 2,
      "outputs": []
    },
    {
      "cell_type": "markdown",
      "source": [],
      "metadata": {
        "id": "4ieMwjgcbRFC"
      }
    },
    {
      "cell_type": "code",
      "source": [
        "# The shape should be 303 x 14 and verify that the first and last rows are correctly printing\n",
        "my_data[0], my_data.shape, my_data[len(my_data)-1] # first row, size of file, and last row.\n"
      ],
      "metadata": {
        "colab": {
          "base_uri": "https://localhost:8080/"
        },
        "id": "ZcZWYzPyX4B2",
        "outputId": "3441fe3b-db6b-45ee-8ec1-34e731405ecd"
      },
      "execution_count": 3,
      "outputs": [
        {
          "output_type": "execute_result",
          "data": {
            "text/plain": [
              "(array([ 63. ,   1. ,   3. , 145. , 233. ,   1. ,   0. , 150. ,   0. ,\n",
              "          2.3,   0. ,   0. ,   1. ,   1. ]),\n",
              " (303, 14),\n",
              " array([ 57.,   0.,   1., 130., 236.,   0.,   0., 174.,   0.,   0.,   1.,\n",
              "          1.,   2.,   0.]))"
            ]
          },
          "metadata": {},
          "execution_count": 3
        }
      ]
    },
    {
      "cell_type": "code",
      "metadata": {
        "id": "QdoYANBbjuwm"
      },
      "source": [
        "# We are solving a small problem as an example\n",
        "# We set up our data as examples and labels\n",
        "# Data with two features\n",
        "X = np.array([[1,2],\n",
        "             [5,8],\n",
        "             [1.5,1.8],\n",
        "             [8,8],\n",
        "             [1,0.6],\n",
        "             [9,11]])\n",
        "# Labels: either 0 or 1\n",
        "y = np.array([0,1,0,1,0,1])\n"
      ],
      "execution_count": 4,
      "outputs": []
    },
    {
      "cell_type": "code",
      "metadata": {
        "id": "ZrAOvAq4jxXu",
        "colab": {
          "base_uri": "https://localhost:8080/",
          "height": 430
        },
        "outputId": "d706b6ed-bf23-4024-ec7b-89d7b6cc5682"
      },
      "source": [
        "# We are solving a small problem as an example\n",
        "\n",
        "# Just an illustration -- feel free to skip since you won't be able to do this for high dimensional data\n",
        "a = [x[0] for x in X]\n",
        "b = [x[1] for x in X]\n",
        "colors=[\"#0000FF\", \"#00FF00\"]\n",
        "c = [colors[i] for i in y]\n",
        "plt.scatter(a, b, color=c)\n",
        "plt.show()"
      ],
      "execution_count": 5,
      "outputs": [
        {
          "output_type": "display_data",
          "data": {
            "text/plain": [
              "<Figure size 640x480 with 1 Axes>"
            ],
            "image/png": "[encoded data removed]"
          },
          "metadata": {}
        }
      ]
    },
    {
      "cell_type": "code",
      "metadata": {
        "id": "vYVhKXUFjzjb",
        "colab": {
          "base_uri": "https://localhost:8080/",
          "height": 80
        },
        "outputId": "81b2ef54-4785-4e51-eb13-c548890bfbb2"
      },
      "source": [
        "# We are solving a small problem as an example\n",
        "\n",
        "# C is like 1/(2 * lambda), where lambda is as in the slides\n",
        "# As you can see, svm is now in a library where you don't have to know anything about QP\n",
        "# Most of ML is now in this state, but understanding the underlying math gives you a durable advantage\n",
        "clf = svm.SVC(kernel='linear', C = 1.0)\n",
        "clf.fit(X,y)"
      ],
      "execution_count": 6,
      "outputs": [
        {
          "output_type": "execute_result",
          "data": {
            "text/plain": [
              "SVC(kernel='linear')"
            ],
            "text/html": [
              "<style>#sk-container-id-1 {\n",
              "  /* Definition of color scheme common for light and dark mode */\n",
              "  --sklearn-color-text: black;\n",
              "  --sklearn-color-line: gray;\n",
              "  /* Definition of color scheme for unfitted estimators */\n",
              "  --sklearn-color-unfitted-level-0: #fff5e6;\n",
              "  --sklearn-color-unfitted-level-1: #f6e4d2;\n",
              "  --sklearn-color-unfitted-level-2: #ffe0b3;\n",
              "  --sklearn-color-unfitted-level-3: chocolate;\n",
              "  /* Definition of color scheme for fitted estimators */\n",
              "  --sklearn-color-fitted-level-0: #f0f8ff;\n",
              "  --sklearn-color-fitted-level-1: #d4ebff;\n",
              "  --sklearn-color-fitted-level-2: #b3dbfd;\n",
              "  --sklearn-color-fitted-level-3: cornflowerblue;\n",
              "\n",
              "  /* Specific color for light theme */\n",
              "  --sklearn-color-text-on-default-background: var(--sg-text-color, var(--theme-code-foreground, var(--jp-content-font-color1, black)));\n",
              "  --sklearn-color-background: var(--sg-background-color, var(--theme-background, var(--jp-layout-color0, white)));\n",
              "  --sklearn-color-border-box: var(--sg-text-color, var(--theme-code-foreground, var(--jp-content-font-color1, black)));\n",
              "  --sklearn-color-icon: #696969;\n",
              "\n",
              "  @media (prefers-color-scheme: dark) {\n",
              "    /* Redefinition of color scheme for dark theme */\n",
              "    --sklearn-color-text-on-default-background: var(--sg-text-color, var(--theme-code-foreground, var(--jp-content-font-color1, white)));\n",
              "    --sklearn-color-background: var(--sg-background-color, var(--theme-background, var(--jp-layout-color0, #111)));\n",
              "    --sklearn-color-border-box: var(--sg-text-color, var(--theme-code-foreground, var(--jp-content-font-color1, white)));\n",
              "    --sklearn-color-icon: #878787;\n",
              "  }\n",
              "}\n",
              "\n",
              "#sk-container-id-1 {\n",
              "  color: var(--sklearn-color-text);\n",
              "}\n",
              "\n",
              "#sk-container-id-1 pre {\n",
              "  padding: 0;\n",
              "}\n",
              "\n",
              "#sk-container-id-1 input.sk-hidden--visually {\n",
              "  border: 0;\n",
              "  clip: rect(1px 1px 1px 1px);\n",
              "  clip: rect(1px, 1px, 1px, 1px);\n",
              "  height: 1px;\n",
              "  margin: -1px;\n",
              "  overflow: hidden;\n",
              "  padding: 0;\n",
              "  position: absolute;\n",
              "  width: 1px;\n",
              "}\n",
              "\n",
              "#sk-container-id-1 div.sk-dashed-wrapped {\n",
              "  border: 1px dashed var(--sklearn-color-line);\n",
              "  margin: 0 0.4em 0.5em 0.4em;\n",
              "  box-sizing: border-box;\n",
              "  padding-bottom: 0.4em;\n",
              "  background-color: var(--sklearn-color-background);\n",
              "}\n",
              "\n",
              "#sk-container-id-1 div.sk-container {\n",
              "  /* jupyter's `normalize.less` sets `[hidden] { display: none; }`\n",
              "     but bootstrap.min.css set `[hidden] { display: none !important; }`\n",
              "     so we also need the `!important` here to be able to override the\n",
              "     default hidden behavior on the sphinx rendered scikit-learn.org.\n",
              "     See: https://github.com/scikit-learn/scikit-learn/issues/21755 */\n",
              "  display: inline-block !important;\n",
              "  position: relative;\n",
              "}\n",
              "\n",
              "#sk-container-id-1 div.sk-text-repr-fallback {\n",
              "  display: none;\n",
              "}\n",
              "\n",
              "div.sk-parallel-item,\n",
              "div.sk-serial,\n",
              "div.sk-item {\n",
              "  /* draw centered vertical line to link estimators */\n",
              "  background-image: linear-gradient(var(--sklearn-color-text-on-default-background), var(--sklearn-color-text-on-default-background));\n",
              "  background-size: 2px 100%;\n",
              "  background-repeat: no-repeat;\n",
              "  background-position: center center;\n",
              "}\n",
              "\n",
              "/* Parallel-specific style estimator block */\n",
              "\n",
              "#sk-container-id-1 div.sk-parallel-item::after {\n",
              "  content: \"\";\n",
              "  width: 100%;\n",
              "  border-bottom: 2px solid var(--sklearn-color-text-on-default-background);\n",
              "  flex-grow: 1;\n",
              "}\n",
              "\n",
              "#sk-container-id-1 div.sk-parallel {\n",
              "  display: flex;\n",
              "  align-items: stretch;\n",
              "  justify-content: center;\n",
              "  background-color: var(--sklearn-color-background);\n",
              "  position: relative;\n",
              "}\n",
              "\n",
              "#sk-container-id-1 div.sk-parallel-item {\n",
              "  display: flex;\n",
              "  flex-direction: column;\n",
              "}\n",
              "\n",
              "#sk-container-id-1 div.sk-parallel-item:first-child::after {\n",
              "  align-self: flex-end;\n",
              "  width: 50%;\n",
              "}\n",
              "\n",
              "#sk-container-id-1 div.sk-parallel-item:last-child::after {\n",
              "  align-self: flex-start;\n",
              "  width: 50%;\n",
              "}\n",
              "\n",
              "#sk-container-id-1 div.sk-parallel-item:only-child::after {\n",
              "  width: 0;\n",
              "}\n",
              "\n",
              "/* Serial-specific style estimator block */\n",
              "\n",
              "#sk-container-id-1 div.sk-serial {\n",
              "  display: flex;\n",
              "  flex-direction: column;\n",
              "  align-items: center;\n",
              "  background-color: var(--sklearn-color-background);\n",
              "  padding-right: 1em;\n",
              "  padding-left: 1em;\n",
              "}\n",
              "\n",
              "\n",
              "/* Toggleable style: style used for estimator/Pipeline/ColumnTransformer box that is\n",
              "clickable and can be expanded/collapsed.\n",
              "- Pipeline and ColumnTransformer use this feature and define the default style\n",
              "- Estimators will overwrite some part of the style using the `sk-estimator` class\n",
              "*/\n",
              "\n",
              "/* Pipeline and ColumnTransformer style (default) */\n",
              "\n",
              "#sk-container-id-1 div.sk-toggleable {\n",
              "  /* Default theme specific background. It is overwritten whether we have a\n",
              "  specific estimator or a Pipeline/ColumnTransformer */\n",
              "  background-color: var(--sklearn-color-background);\n",
              "}\n",
              "\n",
              "/* Toggleable label */\n",
              "#sk-container-id-1 label.sk-toggleable__label {\n",
              "  cursor: pointer;\n",
              "  display: block;\n",
              "  width: 100%;\n",
              "  margin-bottom: 0;\n",
              "  padding: 0.5em;\n",
              "  box-sizing: border-box;\n",
              "  text-align: center;\n",
              "}\n",
              "\n",
              "#sk-container-id-1 label.sk-toggleable__label-arrow:before {\n",
              "  /* Arrow on the left of the label */\n",
              "  content: \"▸\";\n",
              "  float: left;\n",
              "  margin-right: 0.25em;\n",
              "  color: var(--sklearn-color-icon);\n",
              "}\n",
              "\n",
              "#sk-container-id-1 label.sk-toggleable__label-arrow:hover:before {\n",
              "  color: var(--sklearn-color-text);\n",
              "}\n",
              "\n",
              "/* Toggleable content - dropdown */\n",
              "\n",
              "#sk-container-id-1 div.sk-toggleable__content {\n",
              "  max-height: 0;\n",
              "  max-width: 0;\n",
              "  overflow: hidden;\n",
              "  text-align: left;\n",
              "  /* unfitted */\n",
              "  background-color: var(--sklearn-color-unfitted-level-0);\n",
              "}\n",
              "\n",
              "#sk-container-id-1 div.sk-toggleable__content.fitted {\n",
              "  /* fitted */\n",
              "  background-color: var(--sklearn-color-fitted-level-0);\n",
              "}\n",
              "\n",
              "#sk-container-id-1 div.sk-toggleable__content pre {\n",
              "  margin: 0.2em;\n",
              "  border-radius: 0.25em;\n",
              "  color: var(--sklearn-color-text);\n",
              "  /* unfitted */\n",
              "  background-color: var(--sklearn-color-unfitted-level-0);\n",
              "}\n",
              "\n",
              "#sk-container-id-1 div.sk-toggleable__content.fitted pre {\n",
              "  /* unfitted */\n",
              "  background-color: var(--sklearn-color-fitted-level-0);\n",
              "}\n",
              "\n",
              "#sk-container-id-1 input.sk-toggleable__control:checked~div.sk-toggleable__content {\n",
              "  /* Expand drop-down */\n",
              "  max-height: 200px;\n",
              "  max-width: 100%;\n",
              "  overflow: auto;\n",
              "}\n",
              "\n",
              "#sk-container-id-1 input.sk-toggleable__control:checked~label.sk-toggleable__label-arrow:before {\n",
              "  content: \"▾\";\n",
              "}\n",
              "\n",
              "/* Pipeline/ColumnTransformer-specific style */\n",
              "\n",
              "#sk-container-id-1 div.sk-label input.sk-toggleable__control:checked~label.sk-toggleable__label {\n",
              "  color: var(--sklearn-color-text);\n",
              "  background-color: var(--sklearn-color-unfitted-level-2);\n",
              "}\n",
              "\n",
              "#sk-container-id-1 div.sk-label.fitted input.sk-toggleable__control:checked~label.sk-toggleable__label {\n",
              "  background-color: var(--sklearn-color-fitted-level-2);\n",
              "}\n",
              "\n",
              "/* Estimator-specific style */\n",
              "\n",
              "/* Colorize estimator box */\n",
              "#sk-container-id-1 div.sk-estimator input.sk-toggleable__control:checked~label.sk-toggleable__label {\n",
              "  /* unfitted */\n",
              "  background-color: var(--sklearn-color-unfitted-level-2);\n",
              "}\n",
              "\n",
              "#sk-container-id-1 div.sk-estimator.fitted input.sk-toggleable__control:checked~label.sk-toggleable__label {\n",
              "  /* fitted */\n",
              "  background-color: var(--sklearn-color-fitted-level-2);\n",
              "}\n",
              "\n",
              "#sk-container-id-1 div.sk-label label.sk-toggleable__label,\n",
              "#sk-container-id-1 div.sk-label label {\n",
              "  /* The background is the default theme color */\n",
              "  color: var(--sklearn-color-text-on-default-background);\n",
              "}\n",
              "\n",
              "/* On hover, darken the color of the background */\n",
              "#sk-container-id-1 div.sk-label:hover label.sk-toggleable__label {\n",
              "  color: var(--sklearn-color-text);\n",
              "  background-color: var(--sklearn-color-unfitted-level-2);\n",
              "}\n",
              "\n",
              "/* Label box, darken color on hover, fitted */\n",
              "#sk-container-id-1 div.sk-label.fitted:hover label.sk-toggleable__label.fitted {\n",
              "  color: var(--sklearn-color-text);\n",
              "  background-color: var(--sklearn-color-fitted-level-2);\n",
              "}\n",
              "\n",
              "/* Estimator label */\n",
              "\n",
              "#sk-container-id-1 div.sk-label label {\n",
              "  font-family: monospace;\n",
              "  font-weight: bold;\n",
              "  display: inline-block;\n",
              "  line-height: 1.2em;\n",
              "}\n",
              "\n",
              "#sk-container-id-1 div.sk-label-container {\n",
              "  text-align: center;\n",
              "}\n",
              "\n",
              "/* Estimator-specific */\n",
              "#sk-container-id-1 div.sk-estimator {\n",
              "  font-family: monospace;\n",
              "  border: 1px dotted var(--sklearn-color-border-box);\n",
              "  border-radius: 0.25em;\n",
              "  box-sizing: border-box;\n",
              "  margin-bottom: 0.5em;\n",
              "  /* unfitted */\n",
              "  background-color: var(--sklearn-color-unfitted-level-0);\n",
              "}\n",
              "\n",
              "#sk-container-id-1 div.sk-estimator.fitted {\n",
              "  /* fitted */\n",
              "  background-color: var(--sklearn-color-fitted-level-0);\n",
              "}\n",
              "\n",
              "/* on hover */\n",
              "#sk-container-id-1 div.sk-estimator:hover {\n",
              "  /* unfitted */\n",
              "  background-color: var(--sklearn-color-unfitted-level-2);\n",
              "}\n",
              "\n",
              "#sk-container-id-1 div.sk-estimator.fitted:hover {\n",
              "  /* fitted */\n",
              "  background-color: var(--sklearn-color-fitted-level-2);\n",
              "}\n",
              "\n",
              "/* Specification for estimator info (e.g. \"i\" and \"?\") */\n",
              "\n",
              "/* Common style for \"i\" and \"?\" */\n",
              "\n",
              ".sk-estimator-doc-link,\n",
              "a:link.sk-estimator-doc-link,\n",
              "a:visited.sk-estimator-doc-link {\n",
              "  float: right;\n",
              "  font-size: smaller;\n",
              "  line-height: 1em;\n",
              "  font-family: monospace;\n",
              "  background-color: var(--sklearn-color-background);\n",
              "  border-radius: 1em;\n",
              "  height: 1em;\n",
              "  width: 1em;\n",
              "  text-decoration: none !important;\n",
              "  margin-left: 1ex;\n",
              "  /* unfitted */\n",
              "  border: var(--sklearn-color-unfitted-level-1) 1pt solid;\n",
              "  color: var(--sklearn-color-unfitted-level-1);\n",
              "}\n",
              "\n",
              ".sk-estimator-doc-link.fitted,\n",
              "a:link.sk-estimator-doc-link.fitted,\n",
              "a:visited.sk-estimator-doc-link.fitted {\n",
              "  /* fitted */\n",
              "  border: var(--sklearn-color-fitted-level-1) 1pt solid;\n",
              "  color: var(--sklearn-color-fitted-level-1);\n",
              "}\n",
              "\n",
              "/* On hover */\n",
              "div.sk-estimator:hover .sk-estimator-doc-link:hover,\n",
              ".sk-estimator-doc-link:hover,\n",
              "div.sk-label-container:hover .sk-estimator-doc-link:hover,\n",
              ".sk-estimator-doc-link:hover {\n",
              "  /* unfitted */\n",
              "  background-color: var(--sklearn-color-unfitted-level-3);\n",
              "  color: var(--sklearn-color-background);\n",
              "  text-decoration: none;\n",
              "}\n",
              "\n",
              "div.sk-estimator.fitted:hover .sk-estimator-doc-link.fitted:hover,\n",
              ".sk-estimator-doc-link.fitted:hover,\n",
              "div.sk-label-container:hover .sk-estimator-doc-link.fitted:hover,\n",
              ".sk-estimator-doc-link.fitted:hover {\n",
              "  /* fitted */\n",
              "  background-color: var(--sklearn-color-fitted-level-3);\n",
              "  color: var(--sklearn-color-background);\n",
              "  text-decoration: none;\n",
              "}\n",
              "\n",
              "/* Span, style for the box shown on hovering the info icon */\n",
              ".sk-estimator-doc-link span {\n",
              "  display: none;\n",
              "  z-index: 9999;\n",
              "  position: relative;\n",
              "  font-weight: normal;\n",
              "  right: .2ex;\n",
              "  padding: .5ex;\n",
              "  margin: .5ex;\n",
              "  width: min-content;\n",
              "  min-width: 20ex;\n",
              "  max-width: 50ex;\n",
              "  color: var(--sklearn-color-text);\n",
              "  box-shadow: 2pt 2pt 4pt #999;\n",
              "  /* unfitted */\n",
              "  background: var(--sklearn-color-unfitted-level-0);\n",
              "  border: .5pt solid var(--sklearn-color-unfitted-level-3);\n",
              "}\n",
              "\n",
              ".sk-estimator-doc-link.fitted span {\n",
              "  /* fitted */\n",
              "  background: var(--sklearn-color-fitted-level-0);\n",
              "  border: var(--sklearn-color-fitted-level-3);\n",
              "}\n",
              "\n",
              ".sk-estimator-doc-link:hover span {\n",
              "  display: block;\n",
              "}\n",
              "\n",
              "/* \"?\"-specific style due to the `<a>` HTML tag */\n",
              "\n",
              "#sk-container-id-1 a.estimator_doc_link {\n",
              "  float: right;\n",
              "  font-size: 1rem;\n",
              "  line-height: 1em;\n",
              "  font-family: monospace;\n",
              "  background-color: var(--sklearn-color-background);\n",
              "  border-radius: 1rem;\n",
              "  height: 1rem;\n",
              "  width: 1rem;\n",
              "  text-decoration: none;\n",
              "  /* unfitted */\n",
              "  color: var(--sklearn-color-unfitted-level-1);\n",
              "  border: var(--sklearn-color-unfitted-level-1) 1pt solid;\n",
              "}\n",
              "\n",
              "#sk-container-id-1 a.estimator_doc_link.fitted {\n",
              "  /* fitted */\n",
              "  border: var(--sklearn-color-fitted-level-1) 1pt solid;\n",
              "  color: var(--sklearn-color-fitted-level-1);\n",
              "}\n",
              "\n",
              "/* On hover */\n",
              "#sk-container-id-1 a.estimator_doc_link:hover {\n",
              "  /* unfitted */\n",
              "  background-color: var(--sklearn-color-unfitted-level-3);\n",
              "  color: var(--sklearn-color-background);\n",
              "  text-decoration: none;\n",
              "}\n",
              "\n",
              "#sk-container-id-1 a.estimator_doc_link.fitted:hover {\n",
              "  /* fitted */\n",
              "  background-color: var(--sklearn-color-fitted-level-3);\n",
              "}\n",
              "</style><div id=\"sk-container-id-1\" class=\"sk-top-container\"><div class=\"sk-text-repr-fallback\"><pre>SVC(kernel=&#x27;linear&#x27;)</pre><b>In a Jupyter environment, please rerun this cell to show the HTML representation or trust the notebook. <br />On GitHub, the HTML representation is unable to render, please try loading this page with nbviewer.org.</b></div><div class=\"sk-container\" hidden><div class=\"sk-item\"><div class=\"sk-estimator fitted sk-toggleable\"><input class=\"sk-toggleable__control sk-hidden--visually\" id=\"sk-estimator-id-1\" type=\"checkbox\" checked><label for=\"sk-estimator-id-1\" class=\"sk-toggleable__label fitted sk-toggleable__label-arrow fitted\">&nbsp;&nbsp;SVC<a class=\"sk-estimator-doc-link fitted\" rel=\"noreferrer\" target=\"_blank\" href=\"https://scikit-learn.org/1.5/modules/generated/sklearn.svm.SVC.html\">?<span>Documentation for SVC</span></a><span class=\"sk-estimator-doc-link fitted\">i<span>Fitted</span></span></label><div class=\"sk-toggleable__content fitted\"><pre>SVC(kernel=&#x27;linear&#x27;)</pre></div> </div></div></div></div>"
            ]
          },
          "metadata": {},
          "execution_count": 6
        }
      ]
    },
    {
      "cell_type": "code",
      "metadata": {
        "id": "POhrbqGSj1_x",
        "colab": {
          "base_uri": "https://localhost:8080/"
        },
        "outputId": "e634e6bb-3692-4112-c3d4-0959b695217c"
      },
      "source": [
        "# We are solving a small problem as an example\n",
        "\n",
        "# This is how you get predictions -- you will need to run this on X_test and see whether the predictions match y_test\n",
        "print(clf.predict([[0.58,0.76], [5.0, 6.0]]))"
      ],
      "execution_count": 8,
      "outputs": [
        {
          "output_type": "stream",
          "name": "stdout",
          "text": [
            "[0 1]\n"
          ]
        }
      ]
    },
    {
      "cell_type": "code",
      "metadata": {
        "id": "G1Lo_2gzj3y1",
        "colab": {
          "base_uri": "https://localhost:8080/",
          "height": 447
        },
        "outputId": "40a523d2-e7ed-413c-d51e-9fa4a7a38c85"
      },
      "source": [
        "# We are solving a small problem as an example\n",
        "\n",
        "# Visualizing the separator -- feel free to skip since you won't be able to do this for larger dimensional data sets\n",
        "w = clf.coef_[0]\n",
        "print(w), clf.intercept_\n",
        "\n",
        "a = -w[0] / w[1]\n",
        "\n",
        "xx = np.linspace(0,12)\n",
        "yy = a * xx - clf.intercept_[0] / w[1]\n",
        "\n",
        "h0 = plt.plot(xx, yy, 'k-', label=\"hyperplane\")\n",
        "\n",
        "plt.scatter(X[:, 0], X[:, 1], color=c)\n",
        "plt.legend()\n",
        "plt.show()"
      ],
      "execution_count": 7,
      "outputs": [
        {
          "output_type": "stream",
          "name": "stdout",
          "text": [
            "[0.1380943  0.24462418]\n"
          ]
        },
        {
          "output_type": "display_data",
          "data": {
            "text/plain": [
              "<Figure size 640x480 with 1 Axes>"
            ],
            "image/png": "[encoded data removed]"
          },
          "metadata": {}
        }
      ]
    },
    {
      "cell_type": "code",
      "metadata": {
        "id": "gQRWAsoyj9tt",
        "colab": {
          "base_uri": "https://localhost:8080/"
        },
        "outputId": "127b203a-7b72-456a-f3b3-71ea6f2fd1f1"
      },
      "source": [
        "# Now we are back to the actual HW problem\n",
        "\n",
        "# Extracting X and y from data that you had read before (the features and the 0/1 class variable)\n",
        "X = np.array([x[:-1] for x in my_data])\n",
        "y = np.array([x[-1] for x in my_data])\n",
        "print (X.shape)\n",
        "print (y.shape)"
      ],
      "execution_count": 9,
      "outputs": [
        {
          "output_type": "stream",
          "name": "stdout",
          "text": [
            "(303, 13)\n",
            "(303,)\n"
          ]
        }
      ]
    },
    {
      "cell_type": "code",
      "metadata": {
        "id": "KoUNQsMZj_Re",
        "colab": {
          "base_uri": "https://localhost:8080/"
        },
        "outputId": "51d967ad-d934-4c58-9c18-e848087e1140"
      },
      "source": [
        "# Partitioning into training and test\n",
        "# Standard code, try to understand if you can, but understanding this is not essential for this class\n",
        "# We are doing it from scratch using numpy, as opposed to using sklearn's train-test-split functionality. There is nothing better or worse about either approach\n",
        "np.random.seed(42)\n",
        "rnds = np.random.rand(303) > 0.2 # This will choose roughly 80% of the data set\n",
        "X_train = X[rnds] # And put this 80% in the training set\n",
        "X_test = X[~rnds] # and the remaining 20% in the test set\n",
        "y_train = y[rnds]\n",
        "y_test = y[~rnds]\n",
        "print (X_train.shape)\n",
        "print (X_test.shape)\n",
        "print (y_train.shape)\n",
        "print (y_test.shape)"
      ],
      "execution_count": 10,
      "outputs": [
        {
          "output_type": "stream",
          "name": "stdout",
          "text": [
            "(236, 13)\n",
            "(67, 13)\n",
            "(236,)\n",
            "(67,)\n"
          ]
        }
      ]
    },
    {
      "cell_type": "code",
      "source": [
        "# HW Assignment\n",
        "\n",
        "# (a) Run SVM on X_train and y_train and report the accuracy on X_train and X_test. Pick a value of C that give good results.\n",
        "\n",
        "n_samples, n_features = X_train.shape\n",
        "\n",
        "for C in [0.001, 0.01, 0.1, 0.2, 0.5, 1.0]:\n",
        "    # Train SVM using sklearn\n",
        "    clf = svm.SVC(kernel='linear', C=C)\n",
        "    clf.fit(X_train, y_train)\n",
        "    preds = clf.predict(X_test)\n",
        "    accuracy = np.mean(preds == y_test)\n",
        "    print(f\"SVM Accuracy with C = {C}: {accuracy}\")\n",
        "\n",
        "    # Convert labels to -1/+1 for CVXPY\n",
        "    y_train_svm = np.where(y_train == 0, -1, 1)\n",
        "\n",
        "    # Define optimization variables\n",
        "    x = cp.Variable(n_features)\n",
        "    alpha = cp.Variable()\n",
        "    delta_i = cp.Variable(n_samples)\n",
        "\n",
        "    # Define constraints\n",
        "    constraints = [\n",
        "        delta_i >= 0,\n",
        "        delta_i >= 1 - cp.multiply(y_train_svm, X_train @ x + alpha)\n",
        "    ]\n",
        "\n",
        "    # Define the objective function\n",
        "    objective = cp.Minimize(1/(2 * C) * cp.norm(x, 2) ** 2 + cp.sum(delta_i))\n",
        "\n",
        "    # Set up and solve the optimization problem\n",
        "    problem = cp.Problem(objective, constraints)\n",
        "    problem.solve()\n",
        "\n",
        "    # Retrieve the optimal weights and bias\n",
        "    x_optimal = x.value\n",
        "    alpha_optimal = alpha.value\n",
        "\n",
        "    # Make predictions on X_test\n",
        "    decision_values = X_test @ x_optimal + alpha_optimal\n",
        "    y_pred = np.where(decision_values >= 0, 1, 0)  # Convert back to 0/1 labels\n",
        "\n",
        "    # Compute accuracy\n",
        "    accuracy = np.mean(y_pred == y_test)\n",
        "    print(f\"CVXPY Accuracy with C = {C}: {accuracy}\")\n",
        "\n",
        "    # Compare predictions\n",
        "    preds_same = np.array_equal(y_pred, preds)\n",
        "    print(f\"Predictions between SVM and CVXPY match: {preds_same}\")\n",
        "\n",
        "# (b) Run QP as opposed to SVM and verify predictions are the same. We recommend using cvxpy as in other QP problems.\n",
        "#     Note that the parameter C may not cleanly correspond to 1/(2*lambda) because of randomness, so it is ok if the exact QP is not the same, but you should\n",
        "#     be able to get the predictions to match.\n",
        "#\n",
        "# FAQ 1: I don't know python. What should I do?\n",
        "# Answer: you have most of what you need here or at cvxpy, but we are here to help as well\n",
        "#         Also, we demonstrated both QP using cvxpy, and the pattern classification problem using excel\n",
        "#         Use those as starting points\n",
        "#\n",
        "# FAQ 2: Can I use another language? Answer: Yes, you can do part (b) in another language if you can find a QP solver.\n",
        "#\n",
        "# FAQ 3: How do I install numpy? Where do I get python? How do I install cvxpy or cvxopt?\n",
        "# Answer: Don't, don't and don't. Go to the colaboratory (https://colab.research.google.com) and start a new Python2 notebook, and then just import the libraries, e.g. on the first line in this notebook\n",
        "#\n",
        "# FAQ 4: What should I submit? Answer: Please upload a pdf printout of your notebook. Include a link to your workbook (make it publicly viewable at least by Stanford accounts) in the pdf\n",
        "#\n",
        "# FAQ 5: Why are we doing this, if everything is in SVM?\n",
        "# Answer: Knowing the underlying optimization ideas in detail will provide you with a durable\n",
        "#         advantage in practical ML, since it allows you to understand the results better, and to\n",
        "#         be able to slightly change the underlying ML model when warranted\n",
        "#\n",
        "# Final Note: You can collaborate on getting cvxpy to work and on getting colaborotary and svm\n",
        "# libraries to work, and on reading data, but not on the actual training and prediction tasks.\n",
        "\n",
        "# You can use AI agents, but you might get a variant of this problem in an exam, so you have to understand your own solution well enough to be\n",
        "# able to reproduce and adapt it without using AI agents."
      ],
      "metadata": {
        "id": "cXp_5qfo9SoO",
        "colab": {
          "base_uri": "https://localhost:8080/"
        },
        "outputId": "a41bebb0-c171-4dbd-9882-b89cb45a9293"
      },
      "execution_count": 29,
      "outputs": [
        {
          "output_type": "stream",
          "name": "stdout",
          "text": [
            "SVM Accuracy with C = 0.001: 0.7611940298507462\n",
            "CVXPY Accuracy with C = 0.001: 0.7611940298507462\n",
            "Predictions between SVM and CVXPY match: True\n",
            "SVM Accuracy with C = 0.01: 0.835820895522388\n",
            "CVXPY Accuracy with C = 0.01: 0.835820895522388\n",
            "Predictions between SVM and CVXPY match: True\n",
            "SVM Accuracy with C = 0.1: 0.8805970149253731\n",
            "CVXPY Accuracy with C = 0.1: 0.8805970149253731\n",
            "Predictions between SVM and CVXPY match: True\n",
            "SVM Accuracy with C = 0.2: 0.8805970149253731\n",
            "CVXPY Accuracy with C = 0.2: 0.8805970149253731\n",
            "Predictions between SVM and CVXPY match: True\n",
            "SVM Accuracy with C = 0.5: 0.8805970149253731\n",
            "CVXPY Accuracy with C = 0.5: 0.8805970149253731\n",
            "Predictions between SVM and CVXPY match: True\n",
            "SVM Accuracy with C = 1.0: 0.8656716417910447\n",
            "CVXPY Accuracy with C = 1.0: 0.8656716417910447\n",
            "Predictions between SVM and CVXPY match: True\n"
          ]
        }
      ]
    }
  ]
}