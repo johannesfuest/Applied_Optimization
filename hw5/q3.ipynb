{
 "cells": [
  {
   "cell_type": "code",
   "execution_count": 9,
   "metadata": {},
   "outputs": [
    {
     "name": "stdout",
     "output_type": "stream",
     "text": [
      "Optimal value:  70500.00000747207\n",
      "Optimal origin_2_transfer:  [[4.00000002e+02 1.99999998e+02 7.48803699e-08]\n",
      " [8.33124167e-07 1.20000000e+03 8.47329718e-08]\n",
      " [3.99999997e+02 3.46260093e-06 7.99999999e+02]]\n",
      "Optimal transfer_2_destination:  [[3.05692052e-09 8.00000000e+02]\n",
      " [7.00000002e+02 6.99999998e+02]\n",
      " [7.99999998e+02 1.89050344e-06]]\n"
     ]
    }
   ],
   "source": [
    "import cvxpy as cp\n",
    "import numpy as np\n",
    "\n",
    "supplies = [1200, 1200, 1200] # Delhi, Mumbai, Shanghai\n",
    "capacities = [800, 1500, 800] # Jakarta, Surababaya, Bandung\n",
    "demands = [1500, 1500] # Palu, Donggala\n",
    "\n",
    "origin_2_transfer = cp.Variable((3, 3))\n",
    "transfer_2_destination = cp.Variable((3, 2))\n",
    "\n",
    "origin_2_transfer_cost = np.array([\n",
    "    [10, 12, 25],\n",
    "    [7, 8, 15],\n",
    "    [5, 8, 10],\n",
    "])\n",
    "transfer_2_destination_cost = np.array([\n",
    "    [20, 15],\n",
    "    [15, 20],\n",
    "    [10, 16],\n",
    "])\n",
    "\n",
    "constraints = [\n",
    "    origin_2_transfer >= 0,\n",
    "    transfer_2_destination >= 0,\n",
    "    cp.sum(origin_2_transfer, axis=1) <= supplies,\n",
    "    cp.sum(transfer_2_destination, axis=1) <= capacities,\n",
    "    cp.sum(origin_2_transfer, axis=0) == cp.sum(transfer_2_destination, axis=1),\n",
    "    cp.sum(transfer_2_destination, axis=0) >= demands,\n",
    "]\n",
    "\n",
    "objective = cp.Minimize(\n",
    "    cp.multiply(origin_2_transfer, origin_2_transfer_cost).sum() +\n",
    "    cp.multiply(transfer_2_destination, transfer_2_destination_cost).sum()\n",
    ")\n",
    "\n",
    "problem = cp.Problem(objective, constraints)\n",
    "problem.solve()\n",
    "\n",
    "print(\"Optimal value: \", problem.value)\n",
    "print(\"Optimal origin_2_transfer: \", origin_2_transfer.value)\n",
    "print(\"Optimal transfer_2_destination: \", transfer_2_destination.value)"
   ]
  },
  {
   "cell_type": "code",
   "execution_count": 11,
   "metadata": {},
   "outputs": [
    {
     "name": "stdout",
     "output_type": "stream",
     "text": [
      "Dual variable for supply constraints: [1.61712034e-09 4.00000000e+00 5.00000000e+00]\n",
      "Dual variable for capacity constraints: [7.00000001e+00 1.42335066e-08 2.00000001e+00]\n",
      "Dual variable for flow conservation constraints: [-10. -12. -15.]\n",
      "Dual variable for demand constraints: [27.00000001 32.00000001]\n"
     ]
    }
   ],
   "source": [
    "print(f\"Dual variable for supply constraints: {constraints[2].dual_value}\")\n",
    "print(f\"Dual variable for capacity constraints: {constraints[3].dual_value}\")\n",
    "print(f\"Dual variable for flow conservation constraints: {constraints[4].dual_value}\")\n",
    "print(f\"Dual variable for demand constraints: {constraints[5].dual_value}\")\n"
   ]
  },
  {
   "cell_type": "markdown",
   "metadata": {},
   "source": [
    "The values of the dual variables in the problem have simple economic interpretations: \n",
    "\n",
    "1. The dual variables associated with the supply constraints are the shadow prices of the resources. They indicate the rate of change in the value of the optimal solution per unit increase in the amount of the resource available.\n",
    "The dual variables associated with the capacity constraints are the shadow prices of the capacities. They indicate the rate of change in the value of the optimal solution per unit increase in the capacity of the constraint.\n",
    "\n",
    "2. The dual variables associated with the demand constraints are the shadow prices of the demands. They indicate the rate of change in the value of the optimal solution per unit increase in the amount of the demand.\n",
    "\n",
    "Because of this, I would invest in expanding the capacity of Jakarta, since it has the highest shadow price of the capacity/supply constraints. \n",
    "\n",
    "Because of the shadow prices of the demands, we also know that the shadow price of the demand for Donggala is the highest, so providing more resources to Donggala would be more expensive than providing more resources to Palu. "
   ]
  },
  {
   "cell_type": "markdown",
   "metadata": {},
   "source": []
  }
 ],
 "metadata": {
  "kernelspec": {
   "display_name": "mse_214",
   "language": "python",
   "name": "python3"
  },
  "language_info": {
   "codemirror_mode": {
    "name": "ipython",
    "version": 3
   },
   "file_extension": ".py",
   "mimetype": "text/x-python",
   "name": "python",
   "nbconvert_exporter": "python",
   "pygments_lexer": "ipython3",
   "version": "3.12.5"
  }
 },
 "nbformat": 4,
 "nbformat_minor": 2
}
